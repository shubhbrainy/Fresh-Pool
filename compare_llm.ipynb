{
 "cells": [
  {
   "cell_type": "code",
   "execution_count": null,
   "id": "be89d66c-c728-43f1-860a-174c4b249b2f",
   "metadata": {},
   "outputs": [],
   "source": [
    "import pandas as pd"
   ]
  },
  {
   "cell_type": "code",
   "execution_count": null,
   "id": "75e502b3-fca6-4c5d-91af-88e3f850881a",
   "metadata": {},
   "outputs": [],
   "source": [
    "df_1 = pd.read_csv('bestpoolshop_chlorine.csv')\n",
    "df_1.head()"
   ]
  },
  {
   "cell_type": "code",
   "execution_count": null,
   "id": "287add6f-a269-49a8-a000-5efa8387e1e5",
   "metadata": {},
   "outputs": [],
   "source": [
    "df_2 = pd.read_csv('chlorine_data.csv')\n",
    "df_2.head()"
   ]
  },
  {
   "cell_type": "code",
   "execution_count": null,
   "id": "30ca47a3-4af6-43a9-b4f6-a893be4d700c",
   "metadata": {},
   "outputs": [],
   "source": [
    "df_3 = pd.read_csv('epoolsupply_chlorine.csv')\n",
    "df_3.head()"
   ]
  },
  {
   "cell_type": "code",
   "execution_count": null,
   "id": "fe92b859-a3c8-46fd-9915-7f9d6a2b6bda",
   "metadata": {},
   "outputs": [],
   "source": [
    "df_4 = pd.read_csv('poolweb_chlorine.csv')\n",
    "df_4.head()"
   ]
  },
  {
   "cell_type": "code",
   "execution_count": null,
   "id": "12785f67-ad5c-46d9-a094-922ee9ac3e0d",
   "metadata": {},
   "outputs": [],
   "source": [
    "df_2.columns"
   ]
  },
  {
   "cell_type": "code",
   "execution_count": null,
   "id": "5200174b-8be3-43c4-be49-7cf60f21a594",
   "metadata": {},
   "outputs": [],
   "source": [
    "df_1.head()"
   ]
  },
  {
   "cell_type": "code",
   "execution_count": null,
   "id": "3bbc893c-ea3a-418f-a7bd-b64722f8a123",
   "metadata": {},
   "outputs": [],
   "source": [
    "def restructure_df(df):\n",
    "    \"\"\"\n",
    "    Keeps only ['title', 'overview', 'price', 'stock', 'description', 'link'] columns.\n",
    "    Merges any additional columns into 'description' with labels.\n",
    "\n",
    "    Parameters:\n",
    "        df (pd.DataFrame): The input DataFrame\n",
    "\n",
    "    Returns:\n",
    "        pd.DataFrame: Modified DataFrame with merged description\n",
    "    \"\"\"\n",
    "    \n",
    "    # Core columns to retain\n",
    "    final_cols = ['title', 'overview', 'price', 'stock', 'description', 'link']\n",
    "    \n",
    "    # Identify extra columns\n",
    "    extra_cols = [col for col in df.columns if col not in final_cols]\n",
    "\n",
    "    # Merge extra columns into description\n",
    "    df['description'] = df.apply(\n",
    "        lambda row: f\"{row['description']} \" + \n",
    "                    \" \".join([f\"{col}: {row[col]}\" for col in extra_cols if pd.notna(row[col])]), \n",
    "        axis=1\n",
    "    )\n",
    "\n",
    "    # Keep only final columns\n",
    "    return df[final_cols]\n"
   ]
  },
  {
   "cell_type": "code",
   "execution_count": null,
   "id": "274be7ad-609e-4890-9d84-5951fb70b193",
   "metadata": {},
   "outputs": [],
   "source": [
    "df_1_new = restructure_df(df_1)\n",
    "df_2_new = restructure_df(df_2)\n",
    "df_3_new = restructure_df(df_3)\n",
    "df_4_new = restructure_df(df_4)"
   ]
  },
  {
   "cell_type": "code",
   "execution_count": null,
   "id": "5476357a-a1d2-465c-856e-51a1f81b05e9",
   "metadata": {},
   "outputs": [],
   "source": [
    "df_1_new.to_csv('bestpoolshop_merged.csv', index=False)\n",
    "df_2_new.to_csv('freshpool_merged.csv', index=False)\n",
    "df_3_new.to_csv('epoolsupply_merged.csv', index=False)\n",
    "df_4_new.to_csv('poolweb_merged.csv', index=False)"
   ]
  },
  {
   "cell_type": "code",
   "execution_count": null,
   "id": "de47c148-21a7-49f1-8a23-6e226dd16680",
   "metadata": {},
   "outputs": [],
   "source": [
    "df_4_new.head()"
   ]
  },
  {
   "cell_type": "code",
   "execution_count": null,
   "id": "e2322719-36b0-42a7-be0f-57a884ceb13c",
   "metadata": {},
   "outputs": [],
   "source": [
    "df_1_new['description'][0]"
   ]
  },
  {
   "cell_type": "code",
   "execution_count": null,
   "id": "5c213175-f7f4-4305-ae21-3971d0c965ab",
   "metadata": {},
   "outputs": [],
   "source": [
    "def remove_dollar(price):\n",
    "    \"\"\"\n",
    "    Removes $ symbol, commas, extra spaces from price and returns as float.\n",
    "    Returns 0.0 if conversion fails.\n",
    "    \"\"\"\n",
    "    try:\n",
    "        price = str(price).replace(\"$\", \"\").replace(\",\", \"\").strip()\n",
    "        return float(price)\n",
    "    except:\n",
    "        return 0.0\n"
   ]
  },
  {
   "cell_type": "code",
   "execution_count": null,
   "id": "7e6c1fab-fe6d-4d2a-9de4-597eefb9e942",
   "metadata": {},
   "outputs": [],
   "source": [
    "df_1_new.loc[:, 'price'] = df_1_new['price'].apply(remove_dollar)\n",
    "df_2_new.loc[:, 'price'] = df_2_new['price'].apply(remove_dollar)\n",
    "df_3_new.loc[:, 'price'] = df_3_new['price'].apply(remove_dollar)\n",
    "df_4_new.loc[:, 'price'] = df_4_new['price'].apply(remove_dollar)"
   ]
  },
  {
   "cell_type": "code",
   "execution_count": null,
   "id": "8f7fd5e8-819e-48a9-bf4e-0c24d926d1eb",
   "metadata": {},
   "outputs": [],
   "source": [
    "type(df_1_new['price'][0])"
   ]
  },
  {
   "cell_type": "code",
   "execution_count": null,
   "id": "0e999b24-5d0e-4c01-a825-4ffeec7e8d9a",
   "metadata": {},
   "outputs": [],
   "source": [
    "import requests\n",
    "import json\n",
    "import time\n",
    "\n",
    "GROQ_API_KEY = \"groq_api_key\"\n",
    "GROQ_URL = \"https://api.groq.com/openai/v1/chat/completions\"\n",
    "MODEL_NAME = \"llama-3.3-70b-versatile\"\n",
    "\n",
    "headers = {\n",
    "    \"Authorization\": f\"Bearer {GROQ_API_KEY}\",\n",
    "    \"Content-Type\": \"application/json\"\n",
    "}"
   ]
  },
  {
   "cell_type": "code",
   "execution_count": null,
   "id": "ee9e7465-dde0-4fac-bc9c-b1ec90bbb83e",
   "metadata": {},
   "outputs": [],
   "source": [
    "def llm_product_match(prod1, prod2):\n",
    "    system_prompt = \"\"\"You are an expert product comparator. \n",
    "    Compare two pool-related products and decide if they are the same based on title, overview, and description even if brand differs. \n",
    "    Reply only 'Yes' or 'No'.\"\"\"\n",
    "\n",
    "    user_prompt = f\"\"\"\n",
    "Product 1:\n",
    "Title: {prod1.get('title', '')}\n",
    "Overview: {prod1.get('overview', '')}\n",
    "Description: {prod1.get('description', '')}\n",
    "\n",
    "Product 2:\n",
    "Title: {prod2.get('title', '')}\n",
    "Overview: {prod2.get('overview', '')}\n",
    "Description: {prod2.get('description', '')}\n",
    "\n",
    "Are these products essentially the same? (Yes/No)\n",
    "\"\"\"\n",
    "\n",
    "    payload = {\n",
    "        \"model\": MODEL_NAME,\n",
    "        \"messages\": [\n",
    "            {\"role\": \"system\", \"content\": system_prompt},\n",
    "            {\"role\": \"user\", \"content\": user_prompt}\n",
    "        ],\n",
    "        \"max_tokens\": 10\n",
    "    }\n",
    "\n",
    "    headers = {\n",
    "        \"Authorization\": f\"Bearer {GROQ_API_KEY}\",\n",
    "        \"Content-Type\": \"application/json\"\n",
    "    }\n",
    "\n",
    "    response = requests.post(GROQ_URL, headers=headers, data=json.dumps(payload))\n",
    "\n",
    "    if response.status_code != 200:\n",
    "        print(f\"⚠ LLM API Error {response.status_code}: {response.text}\")\n",
    "        return False\n",
    "\n",
    "    try:\n",
    "        result = response.json()\n",
    "        reply = result['choices'][0]['message']['content'].strip().lower()\n",
    "        return reply.startswith('yes')\n",
    "    except Exception as e:\n",
    "        print(f\"⚠ JSON Parse Error: {e}, Raw Response: {response.text}\")\n",
    "        return False\n"
   ]
  },
  {
   "cell_type": "code",
   "execution_count": null,
   "id": "f141455a-c290-4d2b-b24b-bd2e66d5b099",
   "metadata": {},
   "outputs": [],
   "source": [
    "def adjust_price_logic(your_price, competitor_price_list):\n",
    "    \"\"\"\n",
    "    Rules:\n",
    "    - If competitors all have lower prices, set your price 1% below lowest competitor\n",
    "    - If your price already best, keep it\n",
    "    - If mixed, adjust to average of lowest two competitor prices minus 1 unit\n",
    "    \"\"\"\n",
    "    valid_prices = [p for p in competitor_price_list if p > 0]\n",
    "\n",
    "    if not valid_prices:\n",
    "        return your_price  # No valid competitor price to compare\n",
    "\n",
    "    min_price = min(valid_prices)\n",
    "    sorted_prices = sorted(valid_prices)\n",
    "\n",
    "    # If all competitors cheaper\n",
    "    if all(p < your_price for p in valid_prices):\n",
    "        return round(min_price - 1, 2)\n",
    "\n",
    "    # If mixed, average lowest two and adjust\n",
    "    if len(sorted_prices) >= 2:\n",
    "        avg = (sorted_prices[0] + sorted_prices[1]) / 2\n",
    "        return round(avg - 1, 2)\n",
    "\n",
    "    # Else keep your price\n",
    "    return your_price\n"
   ]
  },
  {
   "cell_type": "code",
   "execution_count": null,
   "id": "011faffe-287e-42db-bbdc-4fe80a002f83",
   "metadata": {},
   "outputs": [],
   "source": [
    "df_2_new = df_2_new.copy()\n",
    "df_2_new['new_price'] = df_2_new['price']\n",
    "df_2_new['competitor_prices'] = [{} for _ in range(len(df_2_new))]\n",
    "\n",
    "\n",
    "for idx, row in df_2_new.iterrows():\n",
    "    \n",
    "    competitor_price_dict = {}\n",
    "    matched_prices = []\n",
    "\n",
    "    for df, comp_name in zip([df_1_new, df_3_new, df_4_new], [\"Competitor_1\", \"Competitor_3\", \"Competitor_4\"]):\n",
    "        \n",
    "        for _, comp_row in df.iterrows():\n",
    "            \n",
    "            if llm_product_match(row, comp_row):\n",
    "                price = comp_row.get('price', 0)\n",
    "                competitor_price_dict[comp_name] = price\n",
    "                matched_prices.append(price)\n",
    "\n",
    "                print(f\"✅ Matched Product:\")\n",
    "                print(f\"→ Site Product: {row['title']} | {row['link']}\")\n",
    "                print(f\"→ Competitor: {comp_name} | {comp_row['title']} | {comp_row['link']}\")\n",
    "                print(\"-\" * 80)\n",
    "            time.sleep(2)\n",
    "    df_2_new.at[idx, 'competitor_prices'] = competitor_price_dict\n",
    "    df_2_new.at[idx, 'new_price'] = adjust_price_logic(row['price'], matched_prices)\n"
   ]
  },
  {
   "cell_type": "code",
   "execution_count": null,
   "id": "8af65cf0-c4f7-4452-bdd9-ed08dc7cf1ea",
   "metadata": {},
   "outputs": [],
   "source": [
    "df_2_new"
   ]
  },
  {
   "cell_type": "code",
   "execution_count": null,
   "id": "6c62d898-eab2-40ce-8363-c2dea247daf1",
   "metadata": {},
   "outputs": [],
   "source": []
  }
 ],
 "metadata": {
  "kernelspec": {
   "display_name": "Python 3 (ipykernel)",
   "language": "python",
   "name": "python3"
  },
  "language_info": {
   "codemirror_mode": {
    "name": "ipython",
    "version": 3
   },
   "file_extension": ".py",
   "mimetype": "text/x-python",
   "name": "python",
   "nbconvert_exporter": "python",
   "pygments_lexer": "ipython3",
   "version": "3.12.7"
  }
 },
 "nbformat": 4,
 "nbformat_minor": 5
}
